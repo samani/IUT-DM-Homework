{
 "cells": [
  {
   "cell_type": "code",
   "execution_count": 14,
   "metadata": {},
   "outputs": [
    {
     "name": "stdout",
     "output_type": "stream",
     "text": [
      "Apple\n",
      "        Name   OS  Capacity  Ram  Weight Company  inch\n",
      "3   iphone 7  ios       128    2   138.0   Apple   4.7\n",
      "6  iphone 5s  ios        32    1   112.0   Apple   4.0\n",
      "Google\n",
      "    Name       OS  Capacity  Ram  Weight Company  inch\n",
      "8  Pixel  Android       128    4   143.0  Google   5.0\n",
      "HTC\n",
      "      Name       OS  Capacity  Ram  Weight Company  inch\n",
      "4  U Ultra  Android        64    4   170.0     HTC   5.7\n",
      "Microsoft\n",
      "        Name       OS  Capacity  Ram  Weight    Company  inch\n",
      "1  Lumia 950  windows        32    3   150.0  Microsoft   5.2\n",
      "Motorola\n",
      "      Name       OS  Capacity  Ram  Weight   Company  inch\n",
      "7  Moto G5  Android        16    3   144.5  Motorola   5.0\n",
      "Samsung\n",
      "        Name       OS  Capacity  Ram  Weight  Company  inch\n",
      "0  Galaxy SB  Android        64    4   149.0  Samsung   5.8\n",
      "5  Galaxy SS  Android        16    2   145.0  Samsung   5.1\n",
      "Sony\n",
      "        Name       OS  Capacity  Ram  Weight Company  inch\n",
      "2  Xpreia L1  Android        16    2   180.0    Sony   5.5\n"
     ]
    }
   ],
   "source": [
    "import numpy as np\n",
    "import pandas as pd\n",
    "\n",
    "df = pd.read_csv('smartphone.csv', sep=',')\n",
    "grouped = df.groupby('Company')\n",
    "for name,group in grouped:\n",
    "   print(name)\n",
    "   print(group)\n"
   ]
  },
  {
   "cell_type": "code",
   "execution_count": 17,
   "metadata": {},
   "outputs": [
    {
     "name": "stdout",
     "output_type": "stream",
     "text": [
      "          Capacity            Ram           Weight               inch       \\\n",
      "              amin amax mean amin amax mean   amin   amax   mean amin amax   \n",
      "Company                                                                      \n",
      "Apple           32  128   80    1    2  1.5  112.0  138.0  125.0  4.0  4.7   \n",
      "Google         128  128  128    4    4  4.0  143.0  143.0  143.0  5.0  5.0   \n",
      "HTC             64   64   64    4    4  4.0  170.0  170.0  170.0  5.7  5.7   \n",
      "Microsoft       32   32   32    3    3  3.0  150.0  150.0  150.0  5.2  5.2   \n",
      "Motorola        16   16   16    3    3  3.0  144.5  144.5  144.5  5.0  5.0   \n",
      "Samsung         16   64   40    2    4  3.0  145.0  149.0  147.0  5.1  5.8   \n",
      "Sony            16   16   16    2    2  2.0  180.0  180.0  180.0  5.5  5.5   \n",
      "\n",
      "                 \n",
      "           mean  \n",
      "Company          \n",
      "Apple      4.35  \n",
      "Google     5.00  \n",
      "HTC        5.70  \n",
      "Microsoft  5.20  \n",
      "Motorola   5.00  \n",
      "Samsung    5.45  \n",
      "Sony       5.50  \n"
     ]
    }
   ],
   "source": [
    "print(grouped.agg([np.min,np.max,np.mean]))"
   ]
  }
 ],
 "metadata": {
  "kernelspec": {
   "display_name": "Python 3",
   "language": "python",
   "name": "python3"
  },
  "language_info": {
   "codemirror_mode": {
    "name": "ipython",
    "version": 3
   },
   "file_extension": ".py",
   "mimetype": "text/x-python",
   "name": "python",
   "nbconvert_exporter": "python",
   "pygments_lexer": "ipython3",
   "version": "3.6.7"
  }
 },
 "nbformat": 4,
 "nbformat_minor": 2
}
