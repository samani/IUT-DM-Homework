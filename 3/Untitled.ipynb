{
 "cells": [
  {
   "cell_type": "code",
   "execution_count": 24,
   "metadata": {},
   "outputs": [
    {
     "name": "stdout",
     "output_type": "stream",
     "text": [
      "   AGE     SEX  STEROID ANTIVIRALS FATIGUE MALAISE ANOREXIA LIVER_BIG  \\\n",
      "0   30    male       no         no      no      no       no        no   \n",
      "1   50  female       no         no     yes      no       no        no   \n",
      "2   78  female      yes         no     yes      no       no       yes   \n",
      "3   31  female  Missing        yes      no      no       no       yes   \n",
      "4   34  female      yes         no      no      no       no       yes   \n",
      "5   34  female      yes         no      no      no       no       yes   \n",
      "6   51  female       no         no     yes      no      yes       yes   \n",
      "7   23  female      yes         no      no      no       no       yes   \n",
      "8   39  female      yes         no     yes      no       no       yes   \n",
      "9   30  female      yes         no      no      no       no       yes   \n",
      "\n",
      "  LIVER_FIRM SPLEEN_PALPABLE SPIDERS ASCITES VARICES  BILIRUBIN  \\\n",
      "0         no              no      no      no      no        1.0   \n",
      "1         no              no      no      no      no        0.9   \n",
      "2         no              no      no      no      no        0.7   \n",
      "3         no              no      no      no      no        0.7   \n",
      "4         no              no      no      no      no        1.0   \n",
      "5         no              no      no      no      no        0.9   \n",
      "6         no             yes     yes      no      no        0.0   \n",
      "7         no              no      no      no      no        1.0   \n",
      "8        yes              no      no      no      no        0.7   \n",
      "9         no              no      no      no      no        1.0   \n",
      "\n",
      "   ALK_PHOSPHATE   SGOT  ALBUMIN  PROTIME HISTOLOGY Class  \n",
      "0           85.0   18.0      4.0      0.0        no  LIVE  \n",
      "1          135.0   42.0      3.5      0.0        no  LIVE  \n",
      "2           96.0   32.0      4.0      0.0        no  LIVE  \n",
      "3           46.0   52.0      4.0     80.0        no  LIVE  \n",
      "4            0.0  200.0      4.0      0.0        no  LIVE  \n",
      "5           95.0   28.0      4.0     75.0        no  LIVE  \n",
      "6            0.0    0.0      0.0      0.0        no   DIE  \n",
      "7            0.0    0.0      0.0      0.0        no  LIVE  \n",
      "8            0.0   48.0      4.4      0.0        no  LIVE  \n",
      "9            0.0  120.0      3.9      0.0        no  LIVE  \n"
     ]
    }
   ],
   "source": [
    "import numpy as np\n",
    "import pandas as pd\n",
    "\n",
    "df = pd.read_csv('hepatitis.csv', sep=',', na_values={\"?\"})\n",
    "for col in df.columns:\n",
    "    if (df[col].dtypes == object):\n",
    "        df[col].fillna('Missing', inplace=True)\n",
    "    elif (df[col].dtypes == float):\n",
    "        df[col].fillna(0, inplace=True)\n",
    "\n",
    "print(df.head(10))"
   ]
  },
  {
   "cell_type": "code",
   "execution_count": 29,
   "metadata": {},
   "outputs": [
    {
     "name": "stdout",
     "output_type": "stream",
     "text": [
      "BILIRUBIN : 1.0\n",
      "ALK_PHOSPHATE : 85.0\n",
      "SGOT : 58.0\n",
      "ALBUMIN : 4.0\n",
      "PROTIME : 61.0\n",
      "   AGE     SEX  STEROID ANTIVIRALS FATIGUE MALAISE ANOREXIA LIVER_BIG  \\\n",
      "0   30    male       no         no      no      no       no        no   \n",
      "1   50  female       no         no     yes      no       no        no   \n",
      "2   78  female      yes         no     yes      no       no       yes   \n",
      "3   31  female  Missing        yes      no      no       no       yes   \n",
      "4   34  female      yes         no      no      no       no       yes   \n",
      "5   34  female      yes         no      no      no       no       yes   \n",
      "6   51  female       no         no     yes      no      yes       yes   \n",
      "7   23  female      yes         no      no      no       no       yes   \n",
      "8   39  female      yes         no     yes      no       no       yes   \n",
      "9   30  female      yes         no      no      no       no       yes   \n",
      "\n",
      "  LIVER_FIRM SPLEEN_PALPABLE SPIDERS ASCITES VARICES  BILIRUBIN  \\\n",
      "0         no              no      no      no      no        1.0   \n",
      "1         no              no      no      no      no        0.9   \n",
      "2         no              no      no      no      no        0.7   \n",
      "3         no              no      no      no      no        0.7   \n",
      "4         no              no      no      no      no        1.0   \n",
      "5         no              no      no      no      no        0.9   \n",
      "6         no             yes     yes      no      no        1.0   \n",
      "7         no              no      no      no      no        1.0   \n",
      "8        yes              no      no      no      no        0.7   \n",
      "9         no              no      no      no      no        1.0   \n",
      "\n",
      "   ALK_PHOSPHATE   SGOT  ALBUMIN  PROTIME HISTOLOGY Class  \n",
      "0           85.0   18.0      4.0     61.0        no  LIVE  \n",
      "1          135.0   42.0      3.5     61.0        no  LIVE  \n",
      "2           96.0   32.0      4.0     61.0        no  LIVE  \n",
      "3           46.0   52.0      4.0     80.0        no  LIVE  \n",
      "4           85.0  200.0      4.0     61.0        no  LIVE  \n",
      "5           95.0   28.0      4.0     75.0        no  LIVE  \n",
      "6           85.0   58.0      4.0     61.0        no   DIE  \n",
      "7           85.0   58.0      4.0     61.0        no  LIVE  \n",
      "8           85.0   48.0      4.4     61.0        no  LIVE  \n",
      "9           85.0  120.0      3.9     61.0        no  LIVE  \n"
     ]
    }
   ],
   "source": [
    "import numpy as np\n",
    "import pandas as pd\n",
    "\n",
    "df = pd.read_csv('hepatitis.csv', sep=',', na_values={\"?\"})\n",
    "for col in df.columns:\n",
    "    if (df[col].dtypes == object):\n",
    "        df[col].fillna('Missing', inplace=True)\n",
    "    elif (df[col].dtypes == float):\n",
    "        median = df[col].median()\n",
    "        print('{} : {}'.format(col,median))\n",
    "        df[col].fillna(median, inplace=True)\n",
    "\n",
    "print(df.head(10))"
   ]
  },
  {
   "cell_type": "code",
   "execution_count": 45,
   "metadata": {},
   "outputs": [
    {
     "name": "stdout",
     "output_type": "stream",
     "text": [
      "   AGE     SEX STEROID ANTIVIRALS FATIGUE MALAISE ANOREXIA LIVER_BIG  \\\n",
      "0   30    male      no         no      no      no       no        no   \n",
      "1   50  female      no         no     yes      no       no        no   \n",
      "2   78  female     yes         no     yes      no       no       yes   \n",
      "3   31  female     NaN        yes      no      no       no       yes   \n",
      "4   34  female     yes         no      no      no       no       yes   \n",
      "5   34  female     yes         no      no      no       no       yes   \n",
      "6   51  female      no         no     yes      no      yes       yes   \n",
      "7   23  female     yes         no      no      no       no       yes   \n",
      "8   39  female     yes         no     yes      no       no       yes   \n",
      "9   30  female     yes         no      no      no       no       yes   \n",
      "\n",
      "  LIVER_FIRM SPLEEN_PALPABLE SPIDERS ASCITES VARICES  BILIRUBIN  \\\n",
      "0         no              no      no      no      no   1.000000   \n",
      "1         no              no      no      no      no   0.900000   \n",
      "2         no              no      no      no      no   0.700000   \n",
      "3         no              no      no      no      no   0.700000   \n",
      "4         no              no      no      no      no   1.000000   \n",
      "5         no              no      no      no      no   0.900000   \n",
      "6         no             yes     yes      no      no   1.427517   \n",
      "7         no              no      no      no      no   1.000000   \n",
      "8        yes              no      no      no      no   0.700000   \n",
      "9         no              no      no      no      no   1.000000   \n",
      "\n",
      "   ALK_PHOSPHATE       SGOT   ALBUMIN    PROTIME HISTOLOGY Class  \n",
      "0      85.000000   18.00000  4.000000  61.852273        no  LIVE  \n",
      "1     135.000000   42.00000  3.500000  61.852273        no  LIVE  \n",
      "2      96.000000   32.00000  4.000000  61.852273        no  LIVE  \n",
      "3      46.000000   52.00000  4.000000  80.000000        no  LIVE  \n",
      "4     105.325397  200.00000  4.000000  61.852273        no  LIVE  \n",
      "5      95.000000   28.00000  4.000000  75.000000        no  LIVE  \n",
      "6     105.325397   85.89404  3.817266  61.852273        no   DIE  \n",
      "7     105.325397   85.89404  3.817266  61.852273        no  LIVE  \n",
      "8     105.325397   48.00000  4.400000  61.852273        no  LIVE  \n",
      "9     105.325397  120.00000  3.900000  61.852273        no  LIVE  \n"
     ]
    }
   ],
   "source": [
    "import numpy as np\n",
    "import pandas as pd\n",
    "from sklearn.preprocessing import Imputer\n",
    "\n",
    "df = pd.read_csv('hepatitis.csv', sep=',', na_values={\"?\"})\n",
    "imputer = Imputer(missing_values=\"NaN\", strategy=\"mean\", axis=0)\n",
    "imputer = imputer.fit(df.iloc[:,13:18])\n",
    "df.iloc[:,13:18] = imputer.transform(df.iloc[:,13:18])\n",
    "\n",
    "print(df.head(10))"
   ]
  },
  {
   "cell_type": "code",
   "execution_count": null,
   "metadata": {},
   "outputs": [],
   "source": []
  }
 ],
 "metadata": {
  "kernelspec": {
   "display_name": "Python 3",
   "language": "python",
   "name": "python3"
  },
  "language_info": {
   "codemirror_mode": {
    "name": "ipython",
    "version": 3
   },
   "file_extension": ".py",
   "mimetype": "text/x-python",
   "name": "python",
   "nbconvert_exporter": "python",
   "pygments_lexer": "ipython3",
   "version": "3.6.7"
  }
 },
 "nbformat": 4,
 "nbformat_minor": 2
}
