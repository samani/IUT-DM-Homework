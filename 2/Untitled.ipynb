{
 "cells": [
  {
   "cell_type": "code",
   "execution_count": 31,
   "metadata": {},
   "outputs": [
    {
     "name": "stdout",
     "output_type": "stream",
     "text": [
      "AGE: 0 []\n",
      "SEX: 0 []\n",
      "STEROID: 1 [3]\n",
      "ANTIVIRALS: 0 []\n",
      "FATIGUE: 1 [56]\n",
      "MALAISE: 1 [56]\n",
      "ANOREXIA: 1 [56]\n",
      "LIVER_BIG: 10 [ 31  41  56  72  92 106 118 126 141 147]\n",
      "LIVER_FIRM: 11 [ 31  41  56  72  92 106 118 126 141 147 148]\n",
      "SPLEEN_PALPABLE: 5 [ 41  56  72  83 147]\n",
      "SPIDERS: 5 [ 41  56  72  83 147]\n",
      "ASCITES: 5 [ 41  56  72  83 147]\n",
      "VARICES: 5 [ 41  56  72  83 147]\n",
      "BILIRUBIN: 6 [  6  14  44  56  99 118]\n",
      "ALK_PHOSPHATE: 29 [  4   6   7   8   9  14  31  44  56  65  67  73  80  91  92  93  99 101\n",
      " 105 107 116 118 123 126 131 136 142 144 150]\n",
      "SGOT: 4 [  6   7  56 118]\n",
      "ALBUMIN: 16 [  6   7  14  31  44  55  56  59  71  86  99 101 107 115 118 122]\n",
      "PROTIME: 67 [  0   1   2   4   6   7   8   9  14  16  26  31  35  37  41  44  45  46\n",
      "  50  51  55  56  59  65  66  69  70  71  72  74  76  79  80  83  87  88\n",
      "  91  92  93  97  99 101 105 106 107 110 112 113 114 115 116 118 119 120\n",
      " 122 123 126 131 132 136 140 144 146 148 149 151 152]\n",
      "HISTOLOGY: 0 []\n",
      "Class: 0 []\n"
     ]
    }
   ],
   "source": [
    "import numpy as np\n",
    "import pandas as pd\n",
    "\n",
    "df = pd.read_csv('hepatitis.csv', sep=',', na_values={\"?\"})\n",
    "for col in df.columns:\n",
    "    indices = np.where(df[col].isna())\n",
    "    print('{}: {} {}'.format(col, df[col].isnull().sum(),*indices))"
   ]
  },
  {
   "cell_type": "code",
   "execution_count": null,
   "metadata": {},
   "outputs": [],
   "source": []
  },
  {
   "cell_type": "code",
   "execution_count": null,
   "metadata": {},
   "outputs": [],
   "source": []
  }
 ],
 "metadata": {
  "kernelspec": {
   "display_name": "Python 3",
   "language": "python",
   "name": "python3"
  },
  "language_info": {
   "codemirror_mode": {
    "name": "ipython",
    "version": 3
   },
   "file_extension": ".py",
   "mimetype": "text/x-python",
   "name": "python",
   "nbconvert_exporter": "python",
   "pygments_lexer": "ipython3",
   "version": "3.6.7"
  }
 },
 "nbformat": 4,
 "nbformat_minor": 2
}
